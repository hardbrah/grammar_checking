{
 "cells": [
  {
   "cell_type": "code",
   "execution_count": 20,
   "metadata": {},
   "outputs": [],
   "source": [
    "from trl import SFTTrainer, SFTConfig\n",
    "from transformers import AutoTokenizer, AutoModelForCausalLM, TrainingArguments\n",
    "from peft import LoraConfig, get_peft_model\n",
    "import json\n",
    "from datasets import Dataset"
   ]
  },
  {
   "cell_type": "code",
   "execution_count": 4,
   "metadata": {},
   "outputs": [
    {
     "name": "stderr",
     "output_type": "stream",
     "text": [
      "Sliding Window Attention is enabled but not implemented for `sdpa`; unexpected results may be encountered.\n",
      "Loading checkpoint shards: 100%|██████████| 4/4 [00:01<00:00,  3.75it/s]\n"
     ]
    }
   ],
   "source": [
    "import torch\n",
    "\n",
    "# 加载模型和 tokenizer\n",
    "model_path = \"/mnt/workspace/.cache/modelscope/models/Qwen/Qwen2___5-7B-Instruct\"\n",
    "tokenizer = AutoTokenizer.from_pretrained(model_path, trust_remote_code=True)\n",
    "model = AutoModelForCausalLM.from_pretrained(model_path, torch_dtype=torch.bfloat16, trust_remote_code=True)\n"
   ]
  },
  {
   "cell_type": "code",
   "execution_count": 5,
   "metadata": {},
   "outputs": [
    {
     "name": "stderr",
     "output_type": "stream",
     "text": [
      "The installed version of bitsandbytes was compiled without GPU support. 8-bit optimizers, 8-bit multiplication, and GPU quantization are unavailable.\n"
     ]
    }
   ],
   "source": [
    "# LoRA 配置\n",
    "peft_config = LoraConfig(\n",
    "    r=8,\n",
    "    lora_alpha=32,\n",
    "    target_modules=\"all-linear\",  # 根据模型需要调整\n",
    "    lora_dropout=0.05,\n",
    "    bias=\"none\",\n",
    "    task_type=\"CAUSAL_LM\"\n",
    ")\n",
    "model = get_peft_model(model, peft_config)"
   ]
  },
  {
   "cell_type": "code",
   "execution_count": 11,
   "metadata": {},
   "outputs": [
    {
     "name": "stdout",
     "output_type": "stream",
     "text": [
      "[{'messages': [{'role': 'user', 'content': '由于加强了生产过程中的生态环境监控，该基地每年的无公害蔬菜的生产量除供应本省主要市场外，还销往河南、河北等省。'}, {'role': 'assistant', 'content': '由于加强了生产过程中的生态环境监控，该基地每年~~的无公害蔬菜的~~生~~产量~~##的无公害蔬菜的##量除供应本省主要市场外，还销往河南、河北等省。'}], 'source': 'FCGEC EMNLP 2022', 'domain': 'Todo', 'input_token_len': 65, 'language': 'zh', 'modified_times': 3}, {'messages': [{'role': 'user', 'content': '从根本上说，科技发展、经济的振兴，乃至整个社会的进步，主要原因是劳动者的高素质和大量优秀人才的培养决定的。'}, {'role': 'assistant', 'content': '从根本上说，科技发展、经济的振兴，乃至整个社会的进步，主要原因是劳动者的高素质和大量优秀人才的培养~~决定的~~。'}], 'source': 'FCGEC EMNLP 2022', 'domain': 'Todo', 'input_token_len': 65, 'language': 'zh', 'modified_times': 1}, {'messages': [{'role': 'user', 'content': '据《北京青年报》10月22日报道，国务院学位委员会撤销了全国25个省份175所高校的576个学位点，包括部分博士学位。'}, {'role': 'assistant', 'content': '据《北京青年报》10月22日报道，国务院学位委员会撤销了全国25个省份175所高校的576个学位点，包括部分博士学位##授权点##。'}], 'source': 'FCGEC EMNLP 2022', 'domain': 'Todo', 'input_token_len': 57, 'language': 'zh', 'modified_times': 1}]\n"
     ]
    }
   ],
   "source": [
    "# 加载数据\n",
    "def load_data(path):\n",
    "    with open(path, \"r\", encoding=\"utf-8\") as f:\n",
    "        return [json.loads(line) for line in f]\n",
    "\n",
    "dataset = load_data(\"../data/test.jsonl\")\n",
    "print(dataset[:3])"
   ]
  },
  {
   "cell_type": "code",
   "execution_count": 12,
   "metadata": {},
   "outputs": [
    {
     "name": "stdout",
     "output_type": "stream",
     "text": [
      "[{'text': 'user: 由于加强了生产过程中的生态环境监控，该基地每年的无公害蔬菜的生产量除供应本省主要市场外，还销往河南、河北等省。\\nassistant: 由于加强了生产过程中的生态环境监控，该基地每年~~的无公害蔬菜的~~生~~产量~~##的无公害蔬菜的##量除供应本省主要市场外，还销往河南、河北等省。'}, {'text': 'user: 从根本上说，科技发展、经济的振兴，乃至整个社会的进步，主要原因是劳动者的高素质和大量优秀人才的培养决定的。\\nassistant: 从根本上说，科技发展、经济的振兴，乃至整个社会的进步，主要原因是劳动者的高素质和大量优秀人才的培养~~决定的~~。'}]\n"
     ]
    }
   ],
   "source": [
    "# 转换数据格式\n",
    "def to_prompt(example):\n",
    "    messages = example[\"messages\"]\n",
    "    prompt = \"\"\n",
    "    for m in messages:\n",
    "        prompt += f\"{m['role']}: {m['content']}\\n\"\n",
    "    return {\"text\": prompt.strip()}\n",
    "\n",
    "processed = list(map(to_prompt, dataset))\n",
    "print(processed[:2])"
   ]
  },
  {
   "cell_type": "code",
   "execution_count": 13,
   "metadata": {},
   "outputs": [
    {
     "name": "stdout",
     "output_type": "stream",
     "text": [
      "Dataset({\n",
      "    features: ['text'],\n",
      "    num_rows: 10\n",
      "})\n"
     ]
    }
   ],
   "source": [
    "# 转换为 Hugging Face Dataset\n",
    "ds = Dataset.from_list(processed)\n",
    "print(ds)"
   ]
  },
  {
   "cell_type": "code",
   "execution_count": 23,
   "metadata": {},
   "outputs": [],
   "source": [
    "# 配置训练参数\n",
    "training_args = SFTConfig(\n",
    "    seed = 42,\n",
    "    output_dir=\"../output\",\n",
    "    per_device_train_batch_size=2,\n",
    "    gradient_accumulation_steps=8,\n",
    "    learning_rate=5e-5,\n",
    "    num_train_epochs=1,\n",
    "    logging_dir='../logs',\n",
    "    logging_steps=10,\n",
    "    save_steps=500,\n",
    "    save_total_limit=2,\n",
    "    bf16=True,\n",
    "    report_to=\"tensorboard\",  # 使用 TensorBoard 来报告日志\n",
    "    logging_first_step=True,\n",
    "    max_length = 1024,\n",
    "    max_seq_length = 1024,\n",
    "    label_names=[\"labels\"],\n",
    ")"
   ]
  },
  {
   "cell_type": "code",
   "execution_count": 24,
   "metadata": {},
   "outputs": [
    {
     "name": "stderr",
     "output_type": "stream",
     "text": [
      "Converting train dataset to ChatML: 100%|██████████| 10/10 [00:00<00:00, 3017.05 examples/s]\n",
      "Applying chat template to train dataset: 100%|██████████| 10/10 [00:00<00:00, 3577.23 examples/s]\n",
      "Tokenizing train dataset: 100%|██████████| 10/10 [00:00<00:00, 1161.50 examples/s]\n",
      "Truncating train dataset: 100%|██████████| 10/10 [00:00<00:00, 3456.94 examples/s]\n"
     ]
    }
   ],
   "source": [
    "from transformers import DataCollatorForLanguageModeling\n",
    "data_collator = DataCollatorForLanguageModeling(\n",
    "    tokenizer=tokenizer,\n",
    "    mlm=False,\n",
    ")\n",
    "\n",
    "# 设置 SFTTrainer\n",
    "trainer = SFTTrainer(\n",
    "    model=model,\n",
    "    train_dataset=ds,\n",
    "    args=training_args,\n",
    "    data_collator=data_collator,\n",
    ")"
   ]
  },
  {
   "cell_type": "code",
   "execution_count": 25,
   "metadata": {},
   "outputs": [
    {
     "name": "stderr",
     "output_type": "stream",
     "text": [
      "/mnt/workspace/miniconda3/envs/grammar_checking/lib/python3.10/site-packages/transformers/trainer.py:3700: FutureWarning: `torch.cpu.amp.autocast(args...)` is deprecated. Please use `torch.amp.autocast('cpu', args...)` instead.\n",
      "  ctx_manager = torch.cpu.amp.autocast(cache_enabled=cache_enabled, dtype=self.amp_dtype)\n"
     ]
    },
    {
     "data": {
      "text/html": [
       "\n",
       "    <div>\n",
       "      \n",
       "      <progress value='0' max='1' style='width:300px; height:20px; vertical-align: middle;'></progress>\n",
       "      [0/1 : < :, Epoch 0/1]\n",
       "    </div>\n",
       "    <table border=\"1\" class=\"dataframe\">\n",
       "  <thead>\n",
       " <tr style=\"text-align: left;\">\n",
       "      <th>Step</th>\n",
       "      <th>Training Loss</th>\n",
       "    </tr>\n",
       "  </thead>\n",
       "  <tbody>\n",
       "  </tbody>\n",
       "</table><p>"
      ],
      "text/plain": [
       "<IPython.core.display.HTML object>"
      ]
     },
     "metadata": {},
     "output_type": "display_data"
    }
   ],
   "source": [
    "# 启动训练\n",
    "trainer.train()\n",
    "\n",
    "# 保存adapter\n",
    "trainer.model.save_pretrained(\"./output\")"
   ]
  }
 ],
 "metadata": {
  "kernelspec": {
   "display_name": "Python 3",
   "language": "python",
   "name": "python3"
  },
  "language_info": {
   "codemirror_mode": {
    "name": "ipython",
    "version": 3
   },
   "file_extension": ".py",
   "mimetype": "text/x-python",
   "name": "python",
   "nbconvert_exporter": "python",
   "pygments_lexer": "ipython3",
   "version": "3.10.16"
  },
  "orig_nbformat": 4,
  "vscode": {
   "interpreter": {
    "hash": "3e7217076621c61ce42890fcbe87eab0f115d4be8630e575262f61620d540077"
   }
  }
 },
 "nbformat": 4,
 "nbformat_minor": 2
}
